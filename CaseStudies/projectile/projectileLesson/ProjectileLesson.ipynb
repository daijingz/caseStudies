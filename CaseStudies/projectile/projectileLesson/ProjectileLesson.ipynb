{
 "cells": [
  {
   "cell_type": "markdown",
   "id": "wireless-active",
   "metadata": {},
   "source": [
    "# Projectile Motion Lesson by Spencer Smith"
   ]
  },
  {
   "cell_type": "markdown",
   "id": "german-removal",
   "metadata": {},
   "source": [
    "The presentation below is based on Section 12.6 (Motion of a Projectile) from the classic Hibbler text \"Engineering Mechanics Dynamnics, 10th edition\"."
   ]
  },
  {
   "cell_type": "markdown",
   "id": "quarterly-oasis",
   "metadata": {},
   "source": [
    "# Rectilinear Kinematics: Continuous Motion (Recap)\n",
    "\n",
    "As covered previously, the equations relating velocity ($v$), position ($p$) and time ($t$) for motion in one dimension with constant acceleration ($a$) are as follows:\n",
    "\n",
    "$$v = v^i + a t \\label{Eq_rectVel}\\tag{Eq_rectVel}$$ <a name=\"Eq_rectVel\"></a> \n",
    "$$p = p^i + v^i t + \\frac{1}{2} a t^2 \\label{Eq_rectPos}\\tag{Eq_rectPos}$$ <a name=\"Eq_rectPos\"></a>\n",
    "$$v^2 = (v^i)^2 + 2 a (p - p^i) \\label{Eq_rectNoTime}\\tag{Eq_rectNoTime}$$ <a name=\"Eq_rectNoTime\"></a>\n",
    "\n",
    "where $v^i$ and $p^i$ are the initial velocity and position, respectively. \n",
    "\n",
    "Only two of these equations are independent, since the third equation can always be derived from the other two."
   ]
  },
  {
   "cell_type": "markdown",
   "id": "split-alliance",
   "metadata": {},
   "source": [
    "# Motion of a Projectile\n",
    "\n",
    "The free flight motion of a projectile is often studied in terms of its rectangular components in the $x-y$ plane, since the projectile's acceleration *always* acts in the vertical direction.  To illustrate the kinematic analysis, consider a projectile launched at point $(p_x^i, p_y^i)$ with the initial velocity $\\mathbf{v}^i$ having components $v_x^i$ and $v_y^i$, as shown in Figure [hyperref here?].  The position vector $\\mathbf{p}$ changes over time.  At any instant of time $t$ the position is represented by the components $p_x$ and $p_y$. When we assume that air resistance is neglected, the only force acting on the projectile is its weight, which causes the projectile to have a *constant downward acceleration* of approximately $a = a_y = -g = -9.81 \\text{m}/\\text{s}^2$ or $g = 32.2 \\text{ft}/\\text{s}^2$.[^1] [footnotes don't seem to be working on my Mac?]\n",
    "\n",
    "[^1]: This assumes that the earth's gravitational field does not vary with altitude"
   ]
  },
  {
   "cell_type": "markdown",
   "id": "revolutionary-vessel",
   "metadata": {},
   "source": [
    "![Coordinate System and Definition of Symbols](CoordSystAndAssumpts.png)"
   ]
  },
  {
   "cell_type": "markdown",
   "id": "described-cancellation",
   "metadata": {},
   "source": [
    "The equations for rectilinear kinematics given above (ref) are in one dimension.  These equations can be applied for both the vertical motion and the horizontal directions, as follows:"
   ]
  },
  {
   "cell_type": "markdown",
   "id": "pressing-margin",
   "metadata": {},
   "source": [
    "## Horizontal Motion\n",
    "\n",
    "For projectile motion the acceleration in the horizontal direction is constant and equal to zero ($a_x = 0$).  This value can be substituted in the equations for constant acceleration given above (provide a hyperref?) to yield the following:\n",
    "\n",
    "From Equation [Eq_rectVel](#mjx-eqn-Eq_rectVel): $v_x = v_x^i \\label{Eq_horizVel}\\tag{Eq_horizVel}$ <a name=\"Eq_horizVel\"></a> \n",
    "\n",
    "From Equation [Eq_rectPos](#mjx-eqn-Eq_rectPos): $p_x = p_x^i + v_x^i t \\label{Eq_horizPos}\\tag{Eq_horizPos}$ <a name=\"Eq_horizPos\"></a> \n",
    "\n",
    "From Equation [Eq_rectNoTime](#mjx-eqn-Eq_rectNoTime): $v_x = v_x^i$\n",
    "\n",
    "Since the acceleration in the $x$ direction ($a_x$) is zero, the horizontal component of velocity always remains constant during motion.\n"
   ]
  },
  {
   "cell_type": "markdown",
   "id": "finished-sussex",
   "metadata": {},
   "source": [
    "## Vertical Motion\n",
    "\n",
    "Since the positive $y$ axis is directed upward, the acceleration in the vertical direction is $a_y = -g$.  This value can be substituted in the equations for constant acceleration given above (provide a hyperref?) to yield the following:\n",
    "\n",
    "From Equation [Eq_rectVel](#mjx-eqn-Eq_rectVel): $v_y = v_y^i - g t \\label{Eq_vertVel}\\tag{Eq_vertVel}$ <a name=\"Eq_vertVel\"></a> \n",
    "\n",
    "From Equation [Eq_rectPos](#mjx-eqn-Eq_rectPos): $p_y = p_y^i + v_y^i t - \\frac{1}{2} g t^2 \\label{Eq_vertPos}\\tag{Eq_vertPos}$ <a name=\"Eq_vertPos\"></a> \n",
    "\n",
    "From Equation [Eq_rectNoTime](#mjx-eqn-Eq_rectNoTime): $v_y^2 = (v_y^i)^2 - 2 g ( p_y - p_y^i) \\label{Eq_vertNoTime}\\tag{Eq_vertNoTime}$ <a name=\"Eq_vertNotime\"></a> \n",
    "\n",
    "Recall that the last equation can be formulated on the basis of eliminating the time $t$ between the first two equations , and therefore *only two of the above three equations are independent of one another*."
   ]
  },
  {
   "cell_type": "markdown",
   "id": "sharp-marble",
   "metadata": {},
   "source": [
    "## Summary\n",
    "\n",
    "In addition to knowing that the horizontal component of velocity is constant, problems involving the motion of a projectile can have at most three unknowns since only three independent equations can be written: that is, *one* equation in the *horizontal direction* and *two* in the *vertical direction*.  Once $v_x$ and $v_y$ are obtained, the resultant velocity $\\mathbf{v}$, which is *always tangent* to the path, is defined by the *vector sum* as shown in Figure (hyperref to above figure)."
   ]
  },
  {
   "cell_type": "markdown",
   "id": "f535ac11-7c6d-447c-b9e5-6325abf1868a",
   "metadata": {},
   "source": [
    "## Procedure for Analysis\n",
    "\n",
    "Free-flight projectile motion problems can be solved using the following procedure.\n",
    "\n",
    "### Step 1: Coordinate System\n",
    "\n",
    "- Establish the fixed $x$, $y$ coordinate axes and sketch the trajectory of the particle.  Between any *two points* on the path specify the given problem data and the *three unknowns*.  In all cases the acceleration of gravity acts downward.  The particle's initial and final velocities should be represented in terms of their $x$ and $y$ components.\n",
    "- Remember that positive and negative position, velocity, and acceleration components always act in accordance with their associated coordinate directions.\n",
    "- The two points that are selected should be significant points where something about the motion of the particle is known.  Potential significant points include the initial point of launching the projectile and the final point where it lands. The landing point often has a known $y$ value.\n",
    "- The variables in the equation may need to be changed to match the notation of the specific problem.  For instance, a distinction may need to be made between the $x$-coordinate of points $A$ and $B$, via notation like $p_x^A$ and $p_x^B$.\n",
    "\n",
    "### Step 2: Identify Knowns\n",
    "\n",
    "Using the notation for the problem in question, write out the known variables and their values. The known variables will be a subset of the following: $p^i_x, p_x, p^i_y, p_y, v^i_x, v_x, v^i_y, v_y$ and $t$. The knowns should be written in the notation adopted for the particular problem.\n",
    "\n",
    "### Step 3: Identify Unknowns\n",
    "\n",
    "Each problem will have at most 4 unknowns that need to be determined, selected from the variables listed in the Step 2 that are not known.  The number of relevant unknowns will usually be less than 4, since questions will often focus on one or two unknowns.  As an example, the equation that horizontal velocity is constant is so trivial that most problems will not look for this as an unknown.  The unknowns should be written in the notation adopted for the particular problem.\n",
    "\n",
    "### Step 4: Kinematic Equations\n",
    "\n",
    "- Depending upon the known data and what is to be determined, a choice should be made as to which four of the following five equations should be applied between the two points on the path to obtain the most direct solution to the problem.\n",
    "\n",
    "#### Step 4.1: Horizontal Motion\n",
    "\n",
    "From Equation [Eq_horizVel](#mjx-eqn-Eq_horizVel): $v_x = v_x^i$ (The *velocity* in the horizontal or $x$ direction is *constant*)\n",
    "\n",
    "From Equation [Eq_horizPos](#mjx-eqn-Eq_horizPos): $p_x = p_x^i + v_x^i t$\n",
    "\n",
    "#### Step 4.2: Vertical Motion\n",
    "\n",
    "In the vertical or $y$ direction *only two* of the following three equations (using $a_y = -g$) can be used for solution.  (The sign of $g$ will change to positive if the positive $y$ axis is downward.)\n",
    "\n",
    "From Equation [Eq_vertVel](#mjx-eqn-Eq_vertVel): $v_y = v_y^i - g t$\n",
    "\n",
    "From Equation [Eq_vertPos](#mjx-eqn-Eq_vertPos): $p_y = p_y^i + v_y^i t - \\frac{1}{2} g t^2$\n",
    "\n",
    "From Equation [Eq_vertNoTime](#mjx-eqn-Eq_vertNoTime): $v_y^2 = (v_y^i)^2 - 2 g ( p_y - p_y^i)$\n",
    "\n",
    "For example, if the particle's final velocity $v_y$ is not needed, then the first and third of these questions (for $y$) will not be useful.  \n",
    "\n",
    "### Step 5: Solve for Unknowns\n",
    "\n",
    "Use the equations from Step 4, together with the known values from Step 2 to find the unknown values from Step 3.  We can do this systematically by going through each equation and determining how many unknowns are in that equation.  Any equations with one unknown can be used to solve for that unknown directly."
   ]
  },
  {
   "cell_type": "markdown",
   "id": "7fed3915-0961-42f3-b1bd-378a83f0d946",
   "metadata": {},
   "source": [
    "## Example (Sack Slides Off of Ramp)\n",
    "\n",
    "A sack slides off the ramp, shown in Figure ?.  We can ignore the physics of the sack sliding down the ramp and just focus on its exit velocity from the ramp.  There is initially no vertical component of velocity and the  horizontal velocity is:"
   ]
  },
  {
   "cell_type": "code",
   "execution_count": 18,
   "id": "billion-consideration",
   "metadata": {},
   "outputs": [],
   "source": [
    "horiz_velo = 17 #m/s."
   ]
  },
  {
   "cell_type": "markdown",
   "id": "communist-graph",
   "metadata": {},
   "source": [
    "The height of the ramp from the floor is"
   ]
  },
  {
   "cell_type": "code",
   "execution_count": 19,
   "id": "governmental-delhi",
   "metadata": {},
   "outputs": [],
   "source": [
    "height = 6 #m"
   ]
  },
  {
   "cell_type": "markdown",
   "id": "intended-usage",
   "metadata": {},
   "source": [
    "*Task:* Determine the time needed for the sack to strike the floor and the range $R$ where sacks begin to pile up."
   ]
  },
  {
   "cell_type": "markdown",
   "id": "855028bf-36bb-4c68-8164-80e18ff0ce7c",
   "metadata": {},
   "source": [
    "The acceleration due to gravity $g$ is assumed to have the following value."
   ]
  },
  {
   "cell_type": "code",
   "execution_count": 20,
   "id": "bf94df8a-921a-49b7-8085-6cd997f420a4",
   "metadata": {},
   "outputs": [],
   "source": [
    "g = 9.81 #m/s^2"
   ]
  },
  {
   "cell_type": "markdown",
   "id": "horizontal-civilian",
   "metadata": {},
   "source": [
    "![Sack Problem](SackExample.png)"
   ]
  },
  {
   "cell_type": "markdown",
   "id": "short-cherry",
   "metadata": {},
   "source": [
    "### Solution\n",
    "\n",
    "**Step 1: Coordinate System.**  The origin of the coodinates is established at the beginning of the path, point A (Figure ?).  The initial positions and velocities will be taken at Point $A$ and the final positions and velocities will be taken at Point $B$.  Points $A$ and $B$ were selected because we know values at the launch point (Point $A$) and we wish to find values related to the time of flight and the landing point (Point $B$).\n",
    "\n",
    "With respect to notation, we identify point $A$ as the initial point and point $B$ as the final point.  Therefore, in equations [Eq_horizVelo](#mjx-eqn-Eq_horizVelo), [Eq_horizPos](#mjx-eqn-Eq_horizPos), [Eq_vertVelo](#mjx-eqn-Eq_vertVelo), [Eq_vertPos](#mjx-eqn-Eq_vertPos) and [Eq_vertNoTime](#mjx-eqn-Eq_vertNoTime) we have the following new notation: \n",
    "\n",
    "$p^i_x = p^A_x, p_x = p^B_x, p^i_y = p^A_y, p_y = p^B_y, v^i_x = v^A_x, v_x = v^B_x, v^i_y = v^A_y, v_y = v^B_y$\n",
    "\n",
    "and $t_{AB}$ refers to the time that passes when the particle moves from Point $A$ to Point $B$.\n"
   ]
  },
  {
   "cell_type": "markdown",
   "id": "79ab3ef4-d25b-46cf-b4a6-92acfb955eea",
   "metadata": {},
   "source": [
    "**Step 2: Identify Knowns.** We know values for 5 of the 9 possible variables:\n",
    "\n",
    "- $p_x^A = 0$\n",
    "- $p_y^A = 0$\n",
    "- $v_x^A = \\text{horiz_velo}$\n",
    "- $v_y^A = 0$\n",
    "- $p_y^B = -\\text{height}$ (negative because below the origin)$"
   ]
  },
  {
   "cell_type": "code",
   "execution_count": 21,
   "id": "34642a81-42e7-4b4f-87dc-d91f5eb43416",
   "metadata": {},
   "outputs": [
    {
     "name": "stdout",
     "output_type": "stream",
     "text": [
      "pAx = 0 m\n",
      "pAy = 0 m\n",
      "vAx = 17 m/s\n",
      "vAy = 0 m/s\n",
      "pBy = -6 m\n"
     ]
    }
   ],
   "source": [
    "pAx = 0\n",
    "pAy = 0\n",
    "vAx = horiz_velo\n",
    "vAy = 0\n",
    "pBy = -height\n",
    "print(\"pAx =\", pAx, \"m\")\n",
    "print(\"pAy =\", pAy, \"m\")\n",
    "print(\"vAx =\", vAx, \"m/s\")\n",
    "print(\"vAy =\", vAy, \"m/s\")\n",
    "print(\"pBy =\", pBy, \"m\")"
   ]
  },
  {
   "cell_type": "markdown",
   "id": "b0c20db4-d30f-494f-ab00-d9992764932c",
   "metadata": {},
   "source": [
    "**Step 3: Identify Unknowns.** According to the original question our goal is to find 2 unknowns:\n",
    "\n",
    "- $t_{AB}$: the time needed for the sack to strike the floor.\n",
    "- $p_x^B$: the range $R$, which is the x-coordinate of the final position.\n",
    "\n",
    "(We also have 2 other unknowns that are not specifically asked for: $v_x^B$ and $v_y^B$.  We may need to solve for these as part of the solution for the requested unknown values.)"
   ]
  },
  {
   "cell_type": "markdown",
   "id": "6f0194e3-c06c-412b-bc84-7cc35c0c4f52",
   "metadata": {},
   "source": [
    "**Step 4: Kinematic Equations.** "
   ]
  },
  {
   "cell_type": "markdown",
   "id": "5e3b2c18-82a9-4ff1-b5ed-e9f56d045323",
   "metadata": {},
   "source": [
    "**Step 4.1: Horizonal Motion.** From [Eq_horizVel](#mjx-eqn-Eq_horizVel) we know:\n",
    "\n",
    "$v_x^B = v_x^A \\label{Eq_1}\\tag{Eq_1}$ <a name=\"Eq_1\"></a> \n",
    "\n",
    "From [Eq_horizPos](#mjx-eqn-Eq_horizPos) we know:\n",
    "\n",
    "$p_x^B = p_x^A + v_x^A t_{AB} \\label{Eq_2}\\tag{Eq_2}$ <a name=\"Eq_2\"></a> "
   ]
  },
  {
   "cell_type": "markdown",
   "id": "de69e8fd-d81f-48a9-b375-687fd624c69a",
   "metadata": {},
   "source": [
    "**Step 4.2: Vertical Motion.** [Eq_vertVel](#mjx-eqn-Eq_vertVel) we know:\n",
    "\n",
    "$v_y^B = v_y^A - g t_{AB} \\label{Eq_3}\\tag{Eq_3}$ <a name=\"Eq_3\"></a> \n",
    "\n",
    "From [Eq_vertPos](#mjx-eqn-Eq_vertPos) we know:\n",
    "\n",
    "$p_y^B = p_y^A + v_y^A t_{AB} - \\frac{1}{2} g t_{AB}^2 \\label{Eq_4}\\tag{Eq_4}$ <a name=\"Eq_4\"></a> \n",
    "\n",
    "From [Eq_vertNoTime](#mjx-eqn-Eq_vertNoTime) we know:\n",
    "\n",
    "$(v_y^B)^2 = (v_y^A)^2 - 2 g ( p_y^B - p_y^A) \\label{Eq_5}\\tag{Eq_5}$ <a name=\"Eq_5\"></a> "
   ]
  },
  {
   "cell_type": "markdown",
   "id": "747ec117-72d9-46c4-9d72-4bb268514df9",
   "metadata": {},
   "source": [
    "**Step 5: Solve for the Unknowns.** We can go through each of the above 5 equations to see how many unknowns are in each equation:\n",
    "\n",
    "- Eq_1 has one unknown: $v_x^B$\n",
    "- Eq_2 has two unknowns: $p_x^B$, $t_{AB}$\n",
    "- Eq_3 has two unknowns: $v_y^B$, $t_{AB}$\n",
    "- Eq_4 has one unknown: $t_{AB}$\n",
    "- Eq_5 has one unknown: $v_y^B$\n",
    "\n",
    "From Step 3, we know that our goal is to find $t_{AB}$ and $p_x^B$.  We can see that Eq_4 allows us solve for $t_{AB}$.  Once we have this value, we can use Eq_2 to solve for $p_x^B$.  (Although we could also solve for $v_x^B$ and $v_y^B$, using Eq_1 and Eq_3 (or Eq_5), respectively, we are not asked to do so by the question.)\n",
    "\n",
    "Find $t_{AB}$ from Eq_4:\n",
    "\n",
    "$p^B_y = p^A_y + v^A_y t - \\frac{1}{2} g t_{AB}^2$\n",
    "\n",
    "Since $v^A_y = 0$, \n",
    "\n",
    "$p^B_y = p^A_y - \\frac{1}{2} g t_{AB}^2$\n",
    "\n",
    "We can rearrange the above equation to solve for $t_{AB}$: \n",
    "\n",
    "$t_{AB} = \\sqrt{(p^A_y - p^B_y)/\\frac{1}{2}(g)}$\n",
    "\n",
    "The following code solves for $t_{AB}$."
   ]
  },
  {
   "cell_type": "code",
   "execution_count": 22,
   "id": "exotic-twenty",
   "metadata": {},
   "outputs": [
    {
     "name": "stdout",
     "output_type": "stream",
     "text": [
      "ANSWER tAB =  1.106002527218662 s\n"
     ]
    }
   ],
   "source": [
    "import math\n",
    "tAB = math.sqrt((pAy - pBy)/(0.5*(g)))\n",
    "print(\"ANSWER tAB = \", tAB, \"s\")"
   ]
  },
  {
   "cell_type": "markdown",
   "id": "extensive-twelve",
   "metadata": {},
   "source": [
    "Find $p_x^B$ ($R$) from Eq_2:\n",
    "\n",
    "$R = p^B_x = p^A_x + v^A_x t_{AB}$\n",
    "\n",
    "We know $p^A_x = 0$.  Therefore,\n",
    "\n",
    "$R = p^B_x = p^A_x + v^A_x t_{AB}$"
   ]
  },
  {
   "cell_type": "code",
   "execution_count": 23,
   "id": "creative-engine",
   "metadata": {},
   "outputs": [
    {
     "name": "stdout",
     "output_type": "stream",
     "text": [
      "ANSWER R = 18.802042962717255 m\n"
     ]
    }
   ],
   "source": [
    "pBx = pAx + vAx*tAB\n",
    "print(\"ANSWER R =\", pBx, \"m\")"
   ]
  },
  {
   "cell_type": "markdown",
   "id": "4662842a-dc65-4bd8-97e9-8dc446ea1b6c",
   "metadata": {},
   "source": [
    "**Kinematic Quantity Symbols Used For Modelling Projectile Motion and Sack Example**\n",
    "\n",
    "| Position | Velocity | Acceleration |\n",
    "| --- | --- | --- |\n",
    "| p (pos in 1D) | v (velo in 1D) | a (accel in 1D) |\n",
    "| $\\mathbf{p}$ (pos vector) | $\\mathbf{v}$ (velo vector) | $\\mathbf{a}$ (accel vector) |\n",
    "| $\\mathbf{p}^i$ (init pos vector (not used)) | $\\mathbf{v}^i$ (init velo vector) | NA |\n",
    "| $p_x$ (pos x comp) | $v_x$ (velo x comp) | $a_x$ (accel x comp) |\n",
    "| $p_y$ (pos y comp) | $v_y$ (velo y comp) | $a_y$ (accel y comp) |\n",
    "| $p_x^i$ (init pos x comp) | $v_x^i$ (init velo x comp) | NA |\n",
    "| $p_y^i$ (init pos y comp) | $v_y^i$ (init velo y comp) | NA |\n",
    "| $p_x^A$ (Point A pos x comp) | $v_x^A$ (Point A velo x comp) | NA |\n",
    "| $p_y^A$ (Point A pos y comp) | $v_y^A$ (Point A velo y comp) | NA |\n",
    "| $p_x^B$ (Point B pos x comp) | $v_x^B$ (Point B velo x comp) | NA |\n",
    "| $p_y^B$ (Point B pos y comp) | $v_y^B$ (Point B velo y comp) | NA |\n",
    "\n"
   ]
  },
  {
   "cell_type": "markdown",
   "id": "83b750f6-134d-43fa-97eb-781c4e28928b",
   "metadata": {},
   "source": [
    "**Other Symbols Used For Modelling Projectile Motion and Sack Example**\n",
    "\n",
    "| Symbol | \n",
    "| --- | \n",
    "| t (time) | \n",
    "| x (x-axis in Cartesian plane) |\n",
    "| y (y-axis in Cartesian plane) |\n",
    "| g (acceleration due to gravity) |\n"
   ]
  },
  {
   "cell_type": "markdown",
   "id": "9d419ef9-1e55-486b-9310-648f4d8b532e",
   "metadata": {},
   "source": [
    "**Symbols Used Only For Sack Example**\n",
    "\n",
    "| Symbol | \n",
    "| --- | \n",
    "| horiz_velo (horizontal velocity of sack when launched (at A)) | \n",
    "| height (height of the sack when launched (distance between A and C)  |\n",
    "| R (Vertical distance covered by sack at instant when it lands at B) |\n",
    "| A (Location where sack is launched) |\n",
    "| B (Location where sack lands) |\n",
    "| C (Location of ground directly below where sack is launched) |\n",
    "| $t_{AB}$ (time elapsed from launch at A to landing at B) |"
   ]
  },
  {
   "cell_type": "markdown",
   "id": "0afd32fe-5619-4839-850a-1c23fef5d0f7",
   "metadata": {},
   "source": [
    "**Traceability Between Symbols in the Model and Code for Sack Example**\n",
    "\n",
    "The symbols are presented in the order that they are used in the code.\n",
    "\n",
    "| Code Symbol | Model Symbol |\n",
    "| ------------| ----------- |\n",
    "| horiz_velo | horiz_velo |\n",
    "| height | height |\n",
    "| vAx | $v^A_x$ |\n",
    "| g | $g$ |\n",
    "| pBy | $p^B_y$  |\n",
    "| pAy | $p^A_y$ |\n",
    "| tAB | $t_{AB}$ |\n",
    "| pAx | $p^A_x$ |\n",
    "| pBx | $p^B_x$ |\n",
    "\n",
    "\n"
   ]
  },
  {
   "cell_type": "code",
   "execution_count": null,
   "id": "f2e06ece-7eae-466d-8b50-26ae37bcfef5",
   "metadata": {},
   "outputs": [],
   "source": []
  }
 ],
 "metadata": {
  "kernelspec": {
   "display_name": "Python [conda env:root] *",
   "language": "python",
   "name": "conda-root-py"
  },
  "language_info": {
   "codemirror_mode": {
    "name": "ipython",
    "version": 3
   },
   "file_extension": ".py",
   "mimetype": "text/x-python",
   "name": "python",
   "nbconvert_exporter": "python",
   "pygments_lexer": "ipython3",
   "version": "3.8.10"
  },
  "latex_envs": {
   "LaTeX_envs_menu_present": false,
   "autoclose": false,
   "autocomplete": false,
   "bibliofile": "biblio.bib",
   "cite_by": "apalike",
   "current_citInitial": 1,
   "eqLabelWithNumbers": true,
   "eqNumInitial": 1,
   "hotkeys": {
    "equation": "Ctrl-E",
    "itemize": "Ctrl-I"
   },
   "labels_anchors": false,
   "latex_user_defs": false,
   "report_style_numbering": false,
   "user_envs_cfg": false
  }
 },
 "nbformat": 4,
 "nbformat_minor": 5
}
